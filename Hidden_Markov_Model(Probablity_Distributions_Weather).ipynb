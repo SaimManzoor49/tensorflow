{
  "nbformat": 4,
  "nbformat_minor": 0,
  "metadata": {
    "colab": {
      "provenance": [],
      "authorship_tag": "ABX9TyNwKG7NNJkCjP8wwBCqP4BQ",
      "include_colab_link": true
    },
    "kernelspec": {
      "name": "python3",
      "display_name": "Python 3"
    },
    "language_info": {
      "name": "python"
    }
  },
  "cells": [
    {
      "cell_type": "markdown",
      "metadata": {
        "id": "view-in-github",
        "colab_type": "text"
      },
      "source": [
        "<a href=\"https://colab.research.google.com/github/SaimManzoor49/tensorflow/blob/main/Hidden_Markov_Model(Probablity_Distributions_Weather).ipynb\" target=\"_parent\"><img src=\"https://colab.research.google.com/assets/colab-badge.svg\" alt=\"Open In Colab\"/></a>"
      ]
    },
    {
      "cell_type": "code",
      "execution_count": 11,
      "metadata": {
        "id": "3OtbRRmYTk74"
      },
      "outputs": [],
      "source": [
        "import tensorflow_probability as tfp\n",
        "import tensorflow as tf"
      ]
    },
    {
      "cell_type": "code",
      "source": [
        "tfd = tfp.distributions\n",
        "initial_distribution = tfd.Categorical(probs=[[0.8,0.2]]) # probality of ranging from 80% to 20% cold day\n",
        "transition_distribution = tfd.Categorical(probs=[[0.7,0.3],[0.2,0.8]]) # 2 for cold , 2 for hot\n",
        "\n",
        "obesevation_distribution = tfd.Normal(loc=[0.,15.],scale=[5.,10.]) # first is avg(mean(hot,cold)) second is standard deviation(cold,hot) dot for type casting as float"
      ],
      "metadata": {
        "id": "hypyQjGMZSgd"
      },
      "execution_count": 8,
      "outputs": []
    },
    {
      "cell_type": "code",
      "source": [
        "model = tfd.HiddenMarkovModel(\n",
        "    initial_distribution=initial_distribution,\n",
        "    transition_distribution=transition_distribution,\n",
        "    observation_distribution=obesevation_distribution,\n",
        "    num_steps=7\n",
        ")"
      ],
      "metadata": {
        "id": "U-sPrdY2a5wH"
      },
      "execution_count": 9,
      "outputs": []
    },
    {
      "cell_type": "code",
      "source": [
        "mean = model.mean()\n",
        "\n",
        "with tf.compat.v1.Session() as sess:\n",
        "  print(mean.numpy())\n",
        "  # [0,1,2,3,4] 0 = day 1 , 1 = day 2 and so on (index)"
      ],
      "metadata": {
        "colab": {
          "base_uri": "https://localhost:8080/"
        },
        "id": "5wuV-Tm9b3Kc",
        "outputId": "e9b8cdaa-c56e-4ccd-956e-dbcb5975871a"
      },
      "execution_count": 13,
      "outputs": [
        {
          "output_type": "stream",
          "name": "stdout",
          "text": [
            "[[3.        5.9999995 7.4999995 8.25      8.625001  8.812501  8.90625  ]]\n"
          ]
        }
      ]
    }
  ]
}