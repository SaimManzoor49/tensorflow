{
  "nbformat": 4,
  "nbformat_minor": 0,
  "metadata": {
    "colab": {
      "provenance": [],
      "authorship_tag": "ABX9TyPDxiMi7zeMtlxrpExdZ8UF",
      "include_colab_link": true
    },
    "kernelspec": {
      "name": "python3",
      "display_name": "Python 3"
    },
    "language_info": {
      "name": "python"
    }
  },
  "cells": [
    {
      "cell_type": "markdown",
      "metadata": {
        "id": "view-in-github",
        "colab_type": "text"
      },
      "source": [
        "<a href=\"https://colab.research.google.com/github/SaimManzoor49/tensorflow/blob/main/LinearRegressionModel_Titanic_Predection.ipynb\" target=\"_parent\"><img src=\"https://colab.research.google.com/assets/colab-badge.svg\" alt=\"Open In Colab\"/></a>"
      ]
    },
    {
      "cell_type": "code",
      "execution_count": 1,
      "metadata": {
        "id": "ivgMMQWwnvRi"
      },
      "outputs": [],
      "source": [
        "import sklearn as sl\n",
        "import numpy as np\n",
        "import pandas as pd\n",
        "from IPython.display import clear_output\n",
        "import tensorflow as tf\n"
      ]
    },
    {
      "cell_type": "code",
      "source": [
        "# Step 1\n",
        "# get train data and evaluation data\n",
        "dftrain = pd.read_csv('https://storage.googleapis.com/tf-datasets/titanic/train.csv')\n",
        "dfeval = pd.read_csv('https://storage.googleapis.com/tf-datasets/titanic/eval.csv')\n",
        "\n",
        "# Step 2\n",
        "# Seperate the data that is to be predicted\n",
        "y_train = dftrain.pop('survived')\n",
        "y_eval = dfeval.pop('survived')\n",
        "\n",
        "# Step 3\n",
        "# seperate Categorical(true,false)||(male,female)||(any thing like that) and numerical values(1,2,5,6,7.787,454354)\n",
        "CATEGORICAL_COLUMNS = ['sex','n_siblings_spouses','parch','class','deck','embark_town','alone']\n",
        "NUMERIC_COLUMNS = ['age','fare']\n",
        "\n",
        "# Step 4\n",
        "feature_columns = [] # formating or preparing data for training\n",
        "\n",
        "for feature_name in CATEGORICAL_COLUMNS:\n",
        "  vocabulary = dftrain[feature_name].unique() # gives all unique values in the categorical_column of name feature_name in train ds\n",
        "  feature_columns.append(tf.feature_column.categorical_column_with_vocabulary_list(feature_name,vocabulary)) # addind it to FC\n",
        "\n",
        "for feature_name in NUMERIC_COLUMNS:\n",
        "  feature_columns.append(tf.feature_column.numeric_column(feature_name,dtype=tf.float32)) # gives all unique values in the numeric_column of name feature_name in train ds\n",
        "\n",
        "# traning modal\n",
        "\n",
        "# Step 5 making input function\n",
        "# input function to manage traning data into batches and epoch , encodes data in tf.data.Dataset object required for training\n",
        "\n",
        "def make_input_function(data_df,label_df,num_epochs=100,shuffle=True,batch_size=32): # returns the requires input function for traning\n",
        "  def input_function():\n",
        "    ds = tf.data.Dataset.from_tensor_slices((dict(data_df),label_df)) # creates tf.data.Datasets object with data and its lables\n",
        "    if shuffle:\n",
        "      ds = ds.shuffle(1000)\n",
        "    ds = ds.batch(batch_size).repeat(num_epochs) # split in batch size and repeat for num of epochs\n",
        "    return ds\n",
        "  return input_function\n",
        "\n",
        "\n",
        "train_input_fn = make_input_function(dftrain,y_train) # for training\n",
        "eval_input_fn = make_input_function(dfeval,y_eval,num_epochs=1,shuffle=False) # for eval\n",
        "\n",
        "# Step 6\n",
        "# creating the modal\n",
        "linear_est = tf.estimator.LinearClassifier(feature_columns=feature_columns)\n",
        "\n",
        "# Step 7\n",
        "# traning modal\n",
        "linear_est.train(train_input_fn)\n",
        "\n",
        "# Step 8\n",
        "# evaluating the modal\n",
        "result = linear_est.evaluate(eval_input_fn)\n",
        "\n",
        "clear_output()\n",
        "print(result['accuracy'])\n",
        "print(result)\n"
      ],
      "metadata": {
        "colab": {
          "base_uri": "https://localhost:8080/"
        },
        "id": "jBRObPRmpkdu",
        "outputId": "29df927b-20e6-473e-d86e-e06116a9b092"
      },
      "execution_count": 2,
      "outputs": [
        {
          "output_type": "stream",
          "name": "stdout",
          "text": [
            "0.78409094\n",
            "{'accuracy': 0.78409094, 'accuracy_baseline': 0.625, 'auc': 0.83777165, 'auc_precision_recall': 0.78659534, 'average_loss': 0.46887746, 'label/mean': 0.375, 'loss': 0.4530064, 'precision': 0.71, 'prediction/mean': 0.39077154, 'recall': 0.7171717, 'global_step': 2000}\n"
          ]
        }
      ]
    },
    {
      "cell_type": "code",
      "source": [
        "# Step 9\n",
        "# making predictions\n",
        "pridection = list(linear_est.predict(eval_input_fn))\n",
        "print(dfeval.loc[10])\n",
        "print(pridection[10]['probabilities'][1])"
      ],
      "metadata": {
        "colab": {
          "base_uri": "https://localhost:8080/"
        },
        "id": "41t_SSUBOAeu",
        "outputId": "50173d7b-4bff-4cb1-fc9d-ad250a17d6a9"
      },
      "execution_count": 3,
      "outputs": [
        {
          "output_type": "stream",
          "name": "stderr",
          "text": [
            "WARNING:tensorflow:From /usr/local/lib/python3.10/dist-packages/tensorflow_estimator/python/estimator/head/base_head.py:786: ClassificationOutput.__init__ (from tensorflow.python.saved_model.model_utils.export_output) is deprecated and will be removed in a future version.\n",
            "Instructions for updating:\n",
            "Use tf.keras instead.\n",
            "WARNING:tensorflow:From /usr/local/lib/python3.10/dist-packages/tensorflow_estimator/python/estimator/head/binary_class_head.py:561: RegressionOutput.__init__ (from tensorflow.python.saved_model.model_utils.export_output) is deprecated and will be removed in a future version.\n",
            "Instructions for updating:\n",
            "Use tf.keras instead.\n",
            "WARNING:tensorflow:From /usr/local/lib/python3.10/dist-packages/tensorflow_estimator/python/estimator/head/binary_class_head.py:563: PredictOutput.__init__ (from tensorflow.python.saved_model.model_utils.export_output) is deprecated and will be removed in a future version.\n",
            "Instructions for updating:\n",
            "Use tf.keras instead.\n"
          ]
        },
        {
          "output_type": "stream",
          "name": "stdout",
          "text": [
            "sex                       female\n",
            "age                         28.0\n",
            "n_siblings_spouses             0\n",
            "parch                          0\n",
            "fare                        7.75\n",
            "class                      Third\n",
            "deck                     unknown\n",
            "embark_town           Queenstown\n",
            "alone                          y\n",
            "Name: 10, dtype: object\n",
            "0.68797284\n"
          ]
        }
      ]
    }
  ]
}