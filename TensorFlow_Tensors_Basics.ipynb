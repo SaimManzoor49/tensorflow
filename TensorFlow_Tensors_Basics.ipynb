{
  "nbformat": 4,
  "nbformat_minor": 0,
  "metadata": {
    "colab": {
      "provenance": [],
      "authorship_tag": "ABX9TyO9ydEwMU3qM79a0NlItYNO",
      "include_colab_link": true
    },
    "kernelspec": {
      "name": "python3",
      "display_name": "Python 3"
    },
    "language_info": {
      "name": "python"
    }
  },
  "cells": [
    {
      "cell_type": "markdown",
      "metadata": {
        "id": "view-in-github",
        "colab_type": "text"
      },
      "source": [
        "<a href=\"https://colab.research.google.com/github/SaimManzoor49/tensorflow/blob/main/TensorFlow_Tensors_Basics.ipynb\" target=\"_parent\"><img src=\"https://colab.research.google.com/assets/colab-badge.svg\" alt=\"Open In Colab\"/></a>"
      ]
    },
    {
      "cell_type": "code",
      "execution_count": null,
      "metadata": {
        "id": "oWL1MhXJMB2q"
      },
      "outputs": [],
      "source": [
        "import tensorflow as tf"
      ]
    },
    {
      "cell_type": "code",
      "source": [
        "tensor_zero_d = tf.constant(4)\n",
        "print(tensor_zero_d)"
      ],
      "metadata": {
        "colab": {
          "base_uri": "https://localhost:8080/"
        },
        "id": "j0z2B96MMJ69",
        "outputId": "174825b8-11d7-47df-b869-1f7a6e3e40c6"
      },
      "execution_count": null,
      "outputs": [
        {
          "output_type": "stream",
          "name": "stdout",
          "text": [
            "tf.Tensor(4, shape=(), dtype=int32)\n"
          ]
        }
      ]
    },
    {
      "cell_type": "code",
      "source": [
        "tensor_one_d = tf.constant([1,3])\n",
        "print(tensor_one_d)"
      ],
      "metadata": {
        "colab": {
          "base_uri": "https://localhost:8080/"
        },
        "id": "euO90ZVDMuZg",
        "outputId": "2fbec3b3-3444-464b-ebdb-542689780397"
      },
      "execution_count": null,
      "outputs": [
        {
          "output_type": "stream",
          "name": "stdout",
          "text": [
            "tf.Tensor([1 3], shape=(2,), dtype=int32)\n"
          ]
        }
      ]
    },
    {
      "cell_type": "code",
      "source": [
        "tensor_two_d = tf.constant(\n",
        "    [\n",
        "        [1,2],\n",
        "        [3,4],\n",
        "        [4,5]\n",
        "    ]\n",
        ")\n",
        "print(tensor_two_d)"
      ],
      "metadata": {
        "colab": {
          "base_uri": "https://localhost:8080/"
        },
        "id": "1B6Km5whNAbf",
        "outputId": "e88370d8-ef8f-486c-c2fd-5a0888f8e984"
      },
      "execution_count": null,
      "outputs": [
        {
          "output_type": "stream",
          "name": "stdout",
          "text": [
            "tf.Tensor(\n",
            "[[1 2]\n",
            " [3 4]\n",
            " [4 5]], shape=(3, 2), dtype=int32)\n"
          ]
        }
      ]
    },
    {
      "cell_type": "code",
      "source": [
        "tensor_three_d = tf.constant(\n",
        "    [\n",
        "        [\n",
        "            [1,2],\n",
        "            [1,3],\n",
        "            [1,4],\n",
        "        ],\n",
        "        [\n",
        "            [2,2],\n",
        "            [3,3],\n",
        "            [4,4],\n",
        "        ],\n",
        "    ]\n",
        ")\n",
        "print(tensor_three_d)"
      ],
      "metadata": {
        "colab": {
          "base_uri": "https://localhost:8080/"
        },
        "id": "mYlBu77yNY4N",
        "outputId": "8aaf49b4-ec72-435c-ed9f-ffc8a874e3a1"
      },
      "execution_count": null,
      "outputs": [
        {
          "output_type": "stream",
          "name": "stdout",
          "text": [
            "tf.Tensor(\n",
            "[[[1 2]\n",
            "  [1 3]\n",
            "  [1 4]]\n",
            "\n",
            " [[2 2]\n",
            "  [3 3]\n",
            "  [4 4]]], shape=(2, 3, 2), dtype=int32)\n"
          ]
        }
      ]
    },
    {
      "cell_type": "code",
      "source": [
        "tensor_four_d = tf.constant(\n",
        "    [\n",
        "        [\n",
        "            [\n",
        "                [1,2],\n",
        "                [3,2]\n",
        "            ],\n",
        "            [\n",
        "                [23,23],\n",
        "                [23,2321]\n",
        "            ]\n",
        "        ],\n",
        "        [\n",
        "            [\n",
        "                [1,3242],\n",
        "                [3,2]\n",
        "            ],\n",
        "            [\n",
        "                [21343,23],\n",
        "                [23,2321]\n",
        "            ]\n",
        "        ]\n",
        "    ]\n",
        ")\n",
        "print(tensor_four_d)"
      ],
      "metadata": {
        "colab": {
          "base_uri": "https://localhost:8080/"
        },
        "id": "6c3qELeONuak",
        "outputId": "fc79a1b6-5422-4a4d-dba8-1ace994a906c"
      },
      "execution_count": null,
      "outputs": [
        {
          "output_type": "stream",
          "name": "stdout",
          "text": [
            "tf.Tensor(\n",
            "[[[[    1     2]\n",
            "   [    3     2]]\n",
            "\n",
            "  [[   23    23]\n",
            "   [   23  2321]]]\n",
            "\n",
            "\n",
            " [[[    1  3242]\n",
            "   [    3     2]]\n",
            "\n",
            "  [[21343    23]\n",
            "   [   23  2321]]]], shape=(2, 2, 2, 2), dtype=int32)\n"
          ]
        }
      ]
    },
    {
      "cell_type": "code",
      "source": [
        "print(f'tensor zero d shape{tensor_zero_d.shape}')\n",
        "print(f'tensor one d shape{tensor_one_d.shape}')\n",
        "print(f'tensor two d shape{tensor_two_d.shape}')\n",
        "print(f'tensor three d shape{tensor_three_d.shape}')\n",
        "print(f'tensor four d shape{tensor_four_d.shape}')"
      ],
      "metadata": {
        "colab": {
          "base_uri": "https://localhost:8080/"
        },
        "id": "ZFQrQXUdO06P",
        "outputId": "0adb7132-12fb-4733-df3d-48d1bbbed0e3"
      },
      "execution_count": null,
      "outputs": [
        {
          "output_type": "stream",
          "name": "stdout",
          "text": [
            "tensor zero d shape()\n",
            "tensor one d shape(2,)\n",
            "tensor two d shape(3, 2)\n",
            "tensor three d shape(2, 3, 2)\n",
            "tensor four d shape(2, 2, 2, 2)\n"
          ]
        }
      ]
    },
    {
      "cell_type": "code",
      "source": [
        "import numpy as np"
      ],
      "metadata": {
        "id": "PfaMz0GXQukz"
      },
      "execution_count": null,
      "outputs": []
    },
    {
      "cell_type": "code",
      "source": [
        "np_array = np.array([1,2,3])\n",
        "print(np_array)"
      ],
      "metadata": {
        "colab": {
          "base_uri": "https://localhost:8080/"
        },
        "id": "G82qbVCuQyND",
        "outputId": "f725371d-7654-42c2-9191-207e7ee87c2f"
      },
      "execution_count": null,
      "outputs": [
        {
          "output_type": "stream",
          "name": "stdout",
          "text": [
            "[1 2 3]\n"
          ]
        }
      ]
    },
    {
      "cell_type": "code",
      "source": [
        "np_to_tensor = tf.convert_to_tensor(np_array)\n",
        "print(np_to_tensor)"
      ],
      "metadata": {
        "colab": {
          "base_uri": "https://localhost:8080/"
        },
        "id": "wx3i_29PQ4Jm",
        "outputId": "9315ee87-0948-465b-97af-6184d0c6f257"
      },
      "execution_count": null,
      "outputs": [
        {
          "output_type": "stream",
          "name": "stdout",
          "text": [
            "tf.Tensor([1 2 3], shape=(3,), dtype=int64)\n"
          ]
        }
      ]
    },
    {
      "cell_type": "code",
      "source": [
        "fill_tensor = tf.fill([2,3],99)\n",
        "print(fill_tensor)"
      ],
      "metadata": {
        "colab": {
          "base_uri": "https://localhost:8080/"
        },
        "id": "Wo9MvBfiSNP0",
        "outputId": "226ea7b7-62af-420c-9278-e3798c474ef6"
      },
      "execution_count": null,
      "outputs": [
        {
          "output_type": "stream",
          "name": "stdout",
          "text": [
            "tf.Tensor(\n",
            "[[99 99 99]\n",
            " [99 99 99]], shape=(2, 3), dtype=int32)\n"
          ]
        }
      ]
    },
    {
      "cell_type": "code",
      "source": [
        "ones = tf.ones([2,3],dtype=tf.dtypes.float32)\n",
        "print(ones)"
      ],
      "metadata": {
        "colab": {
          "base_uri": "https://localhost:8080/"
        },
        "id": "RxdjMKDVS-MF",
        "outputId": "3ae75b1e-8a17-4d7a-90c7-e55647b04225"
      },
      "execution_count": null,
      "outputs": [
        {
          "output_type": "stream",
          "name": "stdout",
          "text": [
            "tf.Tensor(\n",
            "[[1. 1. 1.]\n",
            " [1. 1. 1.]], shape=(2, 3), dtype=float32)\n"
          ]
        }
      ]
    },
    {
      "cell_type": "code",
      "source": [
        "randoms = tf.random.normal(\n",
        "    [2,3],\n",
        "    mean=0.0,\n",
        "    stddev=1.0,\n",
        "    dtype=tf.dtypes.float32,\n",
        "    seed=None,\n",
        "    name=None\n",
        ")\n",
        "print(randoms0)"
      ],
      "metadata": {
        "colab": {
          "base_uri": "https://localhost:8080/"
        },
        "id": "SkVZjdHAUiOl",
        "outputId": "1d30c578-cc95-4456-8a54-e9107137b2b6"
      },
      "execution_count": null,
      "outputs": [
        {
          "output_type": "stream",
          "name": "stdout",
          "text": [
            "tf.Tensor(\n",
            "[[ 1.1192895   1.0842891  -0.6387086 ]\n",
            " [ 0.03725942  0.5556142   0.47480613]], shape=(2, 3), dtype=float32)\n"
          ]
        }
      ]
    },
    {
      "cell_type": "code",
      "source": [
        "uniform_tensors = tf.random.uniform(\n",
        "    [2,3],\n",
        "    minval=0,\n",
        "    maxval=None, # by default it is set to 1\n",
        "    dtype=tf.dtypes.float32,\n",
        "    seed=None,\n",
        "    name=None\n",
        ")\n",
        "print(uniform_tensors)"
      ],
      "metadata": {
        "colab": {
          "base_uri": "https://localhost:8080/"
        },
        "id": "kITuJaLpWY26",
        "outputId": "0d883604-730e-4831-e4e9-c86432e55d10"
      },
      "execution_count": null,
      "outputs": [
        {
          "output_type": "stream",
          "name": "stdout",
          "text": [
            "tf.Tensor(\n",
            "[[0.2354865  0.8461753  0.46223438]\n",
            " [0.23446548 0.705001   0.209463  ]], shape=(2, 3), dtype=float32)\n"
          ]
        }
      ]
    },
    {
      "cell_type": "code",
      "source": [
        "tf.random.set_seed(5)\n",
        "print(tf.random.uniform([3],minval=0,maxval=5,dtype=tf.dtypes.int32,seed=10,name=None))\n",
        "print(tf.random.uniform([3],minval=0,maxval=5,dtype=tf.dtypes.int32,seed=10,name=None))\n",
        "print(tf.random.uniform([3],minval=0,maxval=5,dtype=tf.dtypes.int32,seed=10,name=None))\n",
        "print(tf.random.uniform([3],minval=0,maxval=5,dtype=tf.dtypes.int32,seed=10,name=None))\n",
        "print(tf.random.uniform([3],minval=0,maxval=5,dtype=tf.dtypes.int32,seed=10,name=None))"
      ],
      "metadata": {
        "colab": {
          "base_uri": "https://localhost:8080/"
        },
        "id": "LQlCIeZsXi9n",
        "outputId": "f40f9a9e-efc6-4f99-b745-cfe9313e0a7c"
      },
      "execution_count": null,
      "outputs": [
        {
          "output_type": "stream",
          "name": "stdout",
          "text": [
            "tf.Tensor([4 3 1], shape=(3,), dtype=int32)\n",
            "tf.Tensor([4 3 2], shape=(3,), dtype=int32)\n",
            "tf.Tensor([1 1 1], shape=(3,), dtype=int32)\n",
            "tf.Tensor([1 3 3], shape=(3,), dtype=int32)\n",
            "tf.Tensor([4 2 2], shape=(3,), dtype=int32)\n"
          ]
        }
      ]
    },
    {
      "cell_type": "code",
      "source": [
        "tf.random.set_seed(5)\n",
        "print(tf.random.uniform([3],minval=0,maxval=5,dtype=tf.dtypes.int32,seed=10,name=None))\n",
        "print(tf.random.uniform([3],minval=0,maxval=5,dtype=tf.dtypes.int32,seed=10,name=None))\n",
        "print(tf.random.uniform([3],minval=0,maxval=5,dtype=tf.dtypes.int32,seed=10,name=None))\n",
        "print(tf.random.uniform([3],minval=0,maxval=5,dtype=tf.dtypes.int32,seed=10,name=None))\n",
        "print(tf.random.uniform([3],minval=0,maxval=5,dtype=tf.dtypes.int32,seed=10,name=None))"
      ],
      "metadata": {
        "colab": {
          "base_uri": "https://localhost:8080/"
        },
        "id": "TaVNIaLoX8fe",
        "outputId": "405fb8c7-3c1d-4819-a701-00557bda83ab"
      },
      "execution_count": null,
      "outputs": [
        {
          "output_type": "stream",
          "name": "stdout",
          "text": [
            "tf.Tensor([4 3 1], shape=(3,), dtype=int32)\n",
            "tf.Tensor([4 3 2], shape=(3,), dtype=int32)\n",
            "tf.Tensor([1 1 1], shape=(3,), dtype=int32)\n",
            "tf.Tensor([1 3 3], shape=(3,), dtype=int32)\n",
            "tf.Tensor([4 2 2], shape=(3,), dtype=int32)\n"
          ]
        }
      ]
    },
    {
      "cell_type": "code",
      "source": [
        "import numpy as np"
      ],
      "metadata": {
        "id": "ERTTE0X7F4iZ"
      },
      "execution_count": null,
      "outputs": []
    },
    {
      "cell_type": "code",
      "source": [
        "A = np.array(\n",
        "    [\n",
        "        [1,2,3],\n",
        "        [4,5,6],\n",
        "        [1,2,3],\n",
        "    ]\n",
        ")\n",
        "B = np.array(\n",
        "    [\n",
        "        [11,22,33],\n",
        "        [42,52,62],\n",
        "        [11,32,32],\n",
        "    ]\n",
        ")\n",
        "\n",
        "print(np.einsum(\"ij,jk -> ik\",A,B)) # Matrix multiplication"
      ],
      "metadata": {
        "colab": {
          "base_uri": "https://localhost:8080/"
        },
        "id": "oAMtpRNiF63E",
        "outputId": "6db9cfe4-16ed-48a2-b86b-5b8899e7d037"
      },
      "execution_count": null,
      "outputs": [
        {
          "output_type": "stream",
          "name": "stdout",
          "text": [
            "[[128 222 253]\n",
            " [320 540 634]\n",
            " [128 222 253]]\n"
          ]
        }
      ]
    },
    {
      "cell_type": "code",
      "source": [
        "A = np.array(\n",
        "    [\n",
        "        [1,2,3],\n",
        "        [4,5,6],\n",
        "        [1,2,3],\n",
        "    ]\n",
        ")\n",
        "\n",
        "print(np.einsum(\"ij -> ji\",A)) # Matrix transpose"
      ],
      "metadata": {
        "colab": {
          "base_uri": "https://localhost:8080/"
        },
        "id": "D_bLNhpOGn6G",
        "outputId": "d85d23b3-3b5c-4eb7-eb08-906d2a8c67de"
      },
      "execution_count": null,
      "outputs": [
        {
          "output_type": "stream",
          "name": "stdout",
          "text": [
            "[[1 4 1]\n",
            " [2 5 2]\n",
            " [3 6 3]]\n"
          ]
        }
      ]
    },
    {
      "cell_type": "code",
      "source": [
        "u = tf.constant([1,2])\n",
        "v = tf.constant([3,4])\n",
        "print(tf.einsum('i,j -> ',u,v)) # dot product"
      ],
      "metadata": {
        "colab": {
          "base_uri": "https://localhost:8080/"
        },
        "id": "-HotseNAUHal",
        "outputId": "93db7fdc-7a08-4e5f-88b2-e5fe276ee9ce"
      },
      "execution_count": null,
      "outputs": [
        {
          "output_type": "stream",
          "name": "stdout",
          "text": [
            "tf.Tensor(\n",
            "[[3 4]\n",
            " [6 8]], shape=(2, 2), dtype=int32)\n"
          ]
        }
      ]
    },
    {
      "cell_type": "code",
      "source": [
        "u = tf.constant([1,2])\n",
        "v = tf.constant([3,4])\n",
        "print(tf.einsum('i,j -> ij',u,v)) # cross product"
      ],
      "metadata": {
        "colab": {
          "base_uri": "https://localhost:8080/"
        },
        "id": "Osf3AEaeUlJ3",
        "outputId": "26420be7-d3b2-46c4-fe36-eafe53f139e0"
      },
      "execution_count": null,
      "outputs": [
        {
          "output_type": "stream",
          "name": "stdout",
          "text": [
            "tf.Tensor(\n",
            "[[3 4]\n",
            " [6 8]], shape=(2, 2), dtype=int32)\n"
          ]
        }
      ]
    },
    {
      "cell_type": "code",
      "source": [
        "ones = tf.ones([3,3])\n",
        "m = tf.reshape(tf.range(9), [3,3])\n",
        "print(m)\n",
        "print(tf.einsum('ii->i',m))"
      ],
      "metadata": {
        "colab": {
          "base_uri": "https://localhost:8080/"
        },
        "id": "tsai6b74VB5Y",
        "outputId": "f095b300-39e7-4b84-b826-aa94dc129134"
      },
      "execution_count": null,
      "outputs": [
        {
          "output_type": "stream",
          "name": "stdout",
          "text": [
            "tf.Tensor(\n",
            "[[0 1 2]\n",
            " [3 4 5]\n",
            " [6 7 8]], shape=(3, 3), dtype=int32)\n",
            "tf.Tensor([0 4 8], shape=(3,), dtype=int32)\n"
          ]
        }
      ]
    },
    {
      "cell_type": "code",
      "source": [
        "s = tf.random.normal(shape=[7,5,3])\n",
        "t = tf.random.normal(shape=[7,3,2])\n",
        "e = tf.einsum('bij,bjk->bik', s, t)\n",
        "# output[a,i,k] = sum_j s[a,i,j] * t[a, j, k]\n",
        "print(e) # Batch Matrix Multiplication"
      ],
      "metadata": {
        "colab": {
          "base_uri": "https://localhost:8080/"
        },
        "id": "CjthO7CZYhNK",
        "outputId": "49d90d9a-cd0c-4477-85af-687c285fa089"
      },
      "execution_count": null,
      "outputs": [
        {
          "output_type": "stream",
          "name": "stdout",
          "text": [
            "tf.Tensor(\n",
            "[[[-0.8413153   4.1956854 ]\n",
            "  [ 5.1574116   1.1052887 ]\n",
            "  [14.047793    0.36372095]]\n",
            "\n",
            " [[ 0.23557524 -0.25815493]\n",
            "  [-0.29909948 -0.09841295]\n",
            "  [ 0.07528932  0.23703322]]\n",
            "\n",
            " [[ 0.334353   -0.33635846]\n",
            "  [ 0.33007073 -0.08020963]\n",
            "  [ 2.0963485  -3.230741  ]]\n",
            "\n",
            " [[-0.6348581  -0.73232263]\n",
            "  [-3.561839    2.6496143 ]\n",
            "  [-0.02551105  0.0197349 ]]\n",
            "\n",
            " [[-0.5423168  -0.2530426 ]\n",
            "  [-0.4307006  -1.142095  ]\n",
            "  [-1.3113564  -0.5867977 ]]\n",
            "\n",
            " [[-3.5365663  -0.4593049 ]\n",
            "  [-0.52530634  0.09930498]\n",
            "  [ 0.08882731  0.496365  ]]\n",
            "\n",
            " [[ 6.3434715  -2.0845594 ]\n",
            "  [-1.1916043  -1.9852884 ]\n",
            "  [ 0.04790717  1.1770179 ]]], shape=(7, 3, 2), dtype=float32)\n"
          ]
        }
      ]
    }
  ]
}